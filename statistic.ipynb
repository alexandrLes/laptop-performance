{
 "cells": [
  {
   "cell_type": "code",
   "execution_count": 19,
   "metadata": {},
   "outputs": [],
   "source": [
    "import pandas as pd\n",
    "import numpy as np\n",
    "import seaborn as sns\n",
    "import matplotlib.pyplot as plt"
   ]
  },
  {
   "cell_type": "code",
   "execution_count": 20,
   "metadata": {},
   "outputs": [],
   "source": [
    "df = pd.read_csv(r\"data/laptop_info.csv\")"
   ]
  },
  {
   "cell_type": "code",
   "execution_count": 21,
   "metadata": {},
   "outputs": [],
   "source": [
    "useles_columns = ['№', 'Модель (полное название)', 'Модель процессора', 'Год выпуска процессора', 'Модель встроенной видеокарты', 'Тип (марка) куллера материнской платы', 'Браузер для тестов','Исполнитель']\n",
    "df = df.drop(labels = useles_columns,axis = 1)"
   ]
  },
  {
   "cell_type": "code",
   "execution_count": 22,
   "metadata": {},
   "outputs": [],
   "source": [
    "num_features = ['Количество ядер', 'Количество логических процессоров (потоков)', 'Тактовая частота процессора (ГГц)','HDD','SSD' , 'Объем видеопамяти (Гб)', 'Объем видеопамяти (Гб).1']\n",
    "cat_features = ['Вид графического ускорителя (Дискретный / Встроенный)', 'Тип видеопамяти', 'Размер оперативной памяти (Гб)']"
   ]
  },
  {
   "cell_type": "code",
   "execution_count": 23,
   "metadata": {},
   "outputs": [],
   "source": [
    "obj_df = df[num_features].copy()\n",
    "obj_df['Объем видеопамяти (Гб).1'] = pd.to_numeric(obj_df['Объем видеопамяти (Гб).1'], errors='coerce')\n",
    "obj_df = obj_df.fillna({\"Объем видеопамяти (Гб)\": 0,\n",
    "                       \"Объем видеопамяти (Гб).1\": 0})"
   ]
  },
  {
   "cell_type": "code",
   "execution_count": 24,
   "metadata": {},
   "outputs": [],
   "source": [
    "df[num_features] = obj_df"
   ]
  },
  {
   "cell_type": "code",
   "execution_count": 25,
   "metadata": {},
   "outputs": [],
   "source": [
    "def rename_cols(old_name, one_hot):\n",
    "    new_cols = {}\n",
    "    for column in one_hot:\n",
    "        new_cols[column] = old_name + \": \" + column\n",
    "    return one_hot.rename(columns=new_cols)"
   ]
  },
  {
   "cell_type": "code",
   "execution_count": 26,
   "metadata": {},
   "outputs": [],
   "source": [
    "graph_acc = pd.get_dummies(df['Вид графического ускорителя (Дискретный / Встроенный)'])\n",
    "graph_acc.columns = graph_acc.columns.str.strip()\n",
    "graph_acc.loc[graph_acc['дискретный и встроенный'] == 1, ['встроенный', 'дискретный']] = 1\n",
    "graph_acc = graph_acc.drop('дискретный и встроенный', axis=1)\n",
    "graph_acc = rename_cols('Вид графического ускорителя', graph_acc)\n",
    "    "
   ]
  },
  {
   "cell_type": "code",
   "execution_count": 27,
   "metadata": {},
   "outputs": [],
   "source": [
    "video_mem = pd.get_dummies(df['Тип видеопамяти'])\n",
    "video_mem = rename_cols('Тип видеопамяти', video_mem)"
   ]
  },
  {
   "cell_type": "code",
   "execution_count": 28,
   "metadata": {},
   "outputs": [],
   "source": [
    "RAM_size = (df['Размер оперативной памяти (Гб)'] // 8 > 0).astype(int)"
   ]
  },
  {
   "cell_type": "code",
   "execution_count": 29,
   "metadata": {},
   "outputs": [],
   "source": [
    "def add_cols(df, add_df):\n",
    "    for column in add_df.columns:\n",
    "        df[column] = add_df[column]"
   ]
  },
  {
   "cell_type": "code",
   "execution_count": null,
   "metadata": {},
   "outputs": [],
   "source": [
    "df = df.drop(cat_features, axis=1)\n",
    "add_cols(df, graph_acc)\n",
    "add_cols(df, video_mem)\n",
    "df['Оперативная память > 8'] = RAM_size"
   ]
  },
  {
   "cell_type": "code",
   "execution_count": 32,
   "metadata": {},
   "outputs": [],
   "source": [
    "benchmark_columns = ['Учебный', 'Развлекательный', 'Эталон']\n",
    "benchmark_df = df[benchmark_columns].copy()\n",
    "benchmark_df = benchmark_df.fillna(0)\n",
    "benchmark_df['sum'] = benchmark_df[benchmark_columns].sum(axis=1)\n",
    "df = df.drop(['Учебный', 'Развлекательный', 'Эталон'], axis=1)"
   ]
  },
  {
   "cell_type": "code",
   "execution_count": 33,
   "metadata": {},
   "outputs": [],
   "source": [
    "df['benchmark'] = benchmark_df['sum']"
   ]
  },
  {
   "cell_type": "code",
   "execution_count": 36,
   "metadata": {},
   "outputs": [],
   "source": [
    "df = df.drop('Модель дискретной видеокарты', axis=1)"
   ]
  },
  {
   "cell_type": "code",
   "execution_count": 37,
   "metadata": {},
   "outputs": [
    {
     "name": "stdout",
     "output_type": "stream",
     "text": [
      "<class 'pandas.core.frame.DataFrame'>\n",
      "RangeIndex: 23 entries, 0 to 22\n",
      "Data columns (total 22 columns):\n",
      " #   Column                                       Non-Null Count  Dtype  \n",
      "---  ------                                       --------------  -----  \n",
      " 0   Количество ядер                              23 non-null     int64  \n",
      " 1   Количество логических процессоров (потоков)  23 non-null     int64  \n",
      " 2   Тактовая частота процессора (ГГц)            23 non-null     float64\n",
      " 3   Максимальная тактовая частота (ГГц)          23 non-null     float64\n",
      " 4   Объем кэша L2 процессора (Кб)                23 non-null     int64  \n",
      " 5   Объем кэша L3 процессора (Кб)                23 non-null     int64  \n",
      " 6   Частота оперативной памяти (МГц)             23 non-null     int64  \n",
      " 7   HDD                                          23 non-null     int64  \n",
      " 8   SSD                                          23 non-null     int64  \n",
      " 9   Объем видеопамяти (Гб)                       23 non-null     float64\n",
      " 10  Объем видеопамяти (Гб).1                     23 non-null     float64\n",
      " 11  Вид графического ускорителя: встроенный      23 non-null     uint8  \n",
      " 12  Вид графического ускорителя: дискретный      23 non-null     uint8  \n",
      " 13  Тип видеопамяти: DDR3                        23 non-null     uint8  \n",
      " 14  Тип видеопамяти: DDR4                        23 non-null     uint8  \n",
      " 15  Тип видеопамяти: GDDR3                       23 non-null     uint8  \n",
      " 16  Тип видеопамяти: GDDR5                       23 non-null     uint8  \n",
      " 17  Тип видеопамяти: GDDR6                       23 non-null     uint8  \n",
      " 18  Тип видеопамяти: LPDDR4X                     23 non-null     uint8  \n",
      " 19  Тип видеопамяти: SMA                         23 non-null     uint8  \n",
      " 20  Оперативная память > 8                       23 non-null     int64  \n",
      " 21  benchmark                                    23 non-null     float64\n",
      "dtypes: float64(5), int64(8), uint8(9)\n",
      "memory usage: 2.7 KB\n"
     ]
    }
   ],
   "source": [
    "df.info()"
   ]
  }
 ],
 "metadata": {
  "kernelspec": {
   "display_name": "Python 3.10.4 ('data-science')",
   "language": "python",
   "name": "python3"
  },
  "language_info": {
   "codemirror_mode": {
    "name": "ipython",
    "version": 3
   },
   "file_extension": ".py",
   "mimetype": "text/x-python",
   "name": "python",
   "nbconvert_exporter": "python",
   "pygments_lexer": "ipython3",
   "version": "3.10.4"
  },
  "orig_nbformat": 4,
  "vscode": {
   "interpreter": {
    "hash": "663518e8334249d3b4f53b5900dae1ce1200c0b24c53e01efc2689dd62dc5ae7"
   }
  }
 },
 "nbformat": 4,
 "nbformat_minor": 2
}
